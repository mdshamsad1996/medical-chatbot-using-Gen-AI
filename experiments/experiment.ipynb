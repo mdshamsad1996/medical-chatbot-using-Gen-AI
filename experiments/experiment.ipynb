{
 "cells": [
  {
   "cell_type": "code",
   "execution_count": 7,
   "metadata": {},
   "outputs": [],
   "source": [
    "from langchain import PromptTemplate\n",
    "from langchain.chains import RetrievalQA\n",
    "from langchain.embeddings import HuggingFaceEmbeddings\n",
    "from langchain.vectorstores import Pinecone\n",
    "from langchain.document_loaders import PyPDFLoader, DirectoryLoader\n",
    "from langchain.text_splitter import RecursiveCharacterTextSplitter\n",
    "import os"
   ]
  },
  {
   "cell_type": "code",
   "execution_count": 9,
   "metadata": {},
   "outputs": [],
   "source": [
    "\n",
    "from dotenv import load_dotenv\n",
    "load_dotenv()\n",
    "\n",
    "OPENAI_API_KEY = os.environ.get[\"OPENAI_API_KEY\"]\n",
    "\n",
    "# To resolve PineconeConfigurationError: You haven't specified an Api-Key.\n",
    "PINECONE_API_KEY = os.environ.get('PINECONE_API_KEY')"
   ]
  },
  {
   "cell_type": "code",
   "execution_count": 10,
   "metadata": {},
   "outputs": [],
   "source": [
    "#Extract data from the PDF\n",
    "def load_pdf(data):\n",
    "    loader = DirectoryLoader(data,\n",
    "                    glob=\"*.pdf\",\n",
    "                    loader_cls=PyPDFLoader)\n",
    "    \n",
    "    documents = loader.load()\n",
    "\n",
    "    return documents"
   ]
  },
  {
   "cell_type": "code",
   "execution_count": 12,
   "metadata": {},
   "outputs": [],
   "source": [
    "extracted_data = load_pdf(\"../data/\")"
   ]
  },
  {
   "cell_type": "code",
   "execution_count": 13,
   "metadata": {},
   "outputs": [],
   "source": [
    "#Create text chunks\n",
    "def text_split(extracted_data):\n",
    "    text_splitter = RecursiveCharacterTextSplitter(chunk_size = 500, chunk_overlap = 20)\n",
    "    text_chunks = text_splitter.split_documents(extracted_data)\n",
    "    return text_chunks"
   ]
  },
  {
   "cell_type": "code",
   "execution_count": 14,
   "metadata": {},
   "outputs": [],
   "source": [
    "text_chunk = text_split(extracted_data)"
   ]
  },
  {
   "cell_type": "code",
   "execution_count": 15,
   "metadata": {},
   "outputs": [
    {
     "data": {
      "text/plain": [
       "6983"
      ]
     },
     "execution_count": 15,
     "metadata": {},
     "output_type": "execute_result"
    }
   ],
   "source": [
    "len(text_chunk)"
   ]
  },
  {
   "cell_type": "code",
   "execution_count": 22,
   "metadata": {},
   "outputs": [
    {
     "name": "stdout",
     "output_type": "stream",
     "text": [
      "Collecting sentence-transformers\n",
      "  Downloading sentence_transformers-2.6.1-py3-none-any.whl.metadata (11 kB)\n",
      "Requirement already satisfied: transformers<5.0.0,>=4.32.0 in c:\\users\\alams\\appdata\\local\\programs\\python\\python312\\lib\\site-packages (from sentence-transformers) (4.39.3)\n",
      "Requirement already satisfied: tqdm in c:\\users\\alams\\appdata\\local\\programs\\python\\python312\\lib\\site-packages (from sentence-transformers) (4.66.2)\n",
      "Requirement already satisfied: torch>=1.11.0 in c:\\users\\alams\\appdata\\local\\programs\\python\\python312\\lib\\site-packages (from sentence-transformers) (2.2.2)\n",
      "Requirement already satisfied: numpy in c:\\users\\alams\\appdata\\local\\programs\\python\\python312\\lib\\site-packages (from sentence-transformers) (1.26.4)\n",
      "Collecting scikit-learn (from sentence-transformers)\n",
      "  Downloading scikit_learn-1.4.1.post1-cp312-cp312-win_amd64.whl.metadata (11 kB)\n",
      "Collecting scipy (from sentence-transformers)\n",
      "  Downloading scipy-1.13.0-cp312-cp312-win_amd64.whl.metadata (60 kB)\n",
      "     ---------------------------------------- 0.0/60.6 kB ? eta -:--:--\n",
      "     -------------------- ------------------- 30.7/60.6 kB 1.4 MB/s eta 0:00:01\n",
      "     -------------------------------- ----- 51.2/60.6 kB 660.6 kB/s eta 0:00:01\n",
      "     -------------------------------------- 60.6/60.6 kB 541.3 kB/s eta 0:00:00\n",
      "Requirement already satisfied: huggingface-hub>=0.15.1 in c:\\users\\alams\\appdata\\local\\programs\\python\\python312\\lib\\site-packages (from sentence-transformers) (0.22.2)\n",
      "Requirement already satisfied: Pillow in c:\\users\\alams\\appdata\\local\\programs\\python\\python312\\lib\\site-packages (from sentence-transformers) (10.3.0)\n",
      "Requirement already satisfied: filelock in c:\\users\\alams\\appdata\\local\\programs\\python\\python312\\lib\\site-packages (from huggingface-hub>=0.15.1->sentence-transformers) (3.13.3)\n",
      "Requirement already satisfied: fsspec>=2023.5.0 in c:\\users\\alams\\appdata\\local\\programs\\python\\python312\\lib\\site-packages (from huggingface-hub>=0.15.1->sentence-transformers) (2024.3.1)\n",
      "Requirement already satisfied: packaging>=20.9 in c:\\users\\alams\\appdata\\local\\programs\\python\\python312\\lib\\site-packages (from huggingface-hub>=0.15.1->sentence-transformers) (23.2)\n",
      "Requirement already satisfied: pyyaml>=5.1 in c:\\users\\alams\\appdata\\local\\programs\\python\\python312\\lib\\site-packages (from huggingface-hub>=0.15.1->sentence-transformers) (6.0.1)\n",
      "Requirement already satisfied: requests in c:\\users\\alams\\appdata\\local\\programs\\python\\python312\\lib\\site-packages (from huggingface-hub>=0.15.1->sentence-transformers) (2.31.0)\n",
      "Requirement already satisfied: typing-extensions>=3.7.4.3 in c:\\users\\alams\\appdata\\local\\programs\\python\\python312\\lib\\site-packages (from huggingface-hub>=0.15.1->sentence-transformers) (4.10.0)\n",
      "Requirement already satisfied: sympy in c:\\users\\alams\\appdata\\local\\programs\\python\\python312\\lib\\site-packages (from torch>=1.11.0->sentence-transformers) (1.12)\n",
      "Requirement already satisfied: networkx in c:\\users\\alams\\appdata\\local\\programs\\python\\python312\\lib\\site-packages (from torch>=1.11.0->sentence-transformers) (3.2.1)\n",
      "Requirement already satisfied: jinja2 in c:\\users\\alams\\appdata\\local\\programs\\python\\python312\\lib\\site-packages (from torch>=1.11.0->sentence-transformers) (3.1.3)\n",
      "Requirement already satisfied: colorama in c:\\users\\alams\\appdata\\local\\programs\\python\\python312\\lib\\site-packages (from tqdm->sentence-transformers) (0.4.6)\n",
      "Requirement already satisfied: regex!=2019.12.17 in c:\\users\\alams\\appdata\\local\\programs\\python\\python312\\lib\\site-packages (from transformers<5.0.0,>=4.32.0->sentence-transformers) (2023.12.25)\n",
      "Requirement already satisfied: tokenizers<0.19,>=0.14 in c:\\users\\alams\\appdata\\local\\programs\\python\\python312\\lib\\site-packages (from transformers<5.0.0,>=4.32.0->sentence-transformers) (0.15.2)\n",
      "Requirement already satisfied: safetensors>=0.4.1 in c:\\users\\alams\\appdata\\local\\programs\\python\\python312\\lib\\site-packages (from transformers<5.0.0,>=4.32.0->sentence-transformers) (0.4.2)\n",
      "Collecting joblib>=1.2.0 (from scikit-learn->sentence-transformers)\n",
      "  Downloading joblib-1.3.2-py3-none-any.whl.metadata (5.4 kB)\n",
      "Collecting threadpoolctl>=2.0.0 (from scikit-learn->sentence-transformers)\n",
      "  Downloading threadpoolctl-3.4.0-py3-none-any.whl.metadata (13 kB)\n",
      "Requirement already satisfied: MarkupSafe>=2.0 in c:\\users\\alams\\appdata\\local\\programs\\python\\python312\\lib\\site-packages (from jinja2->torch>=1.11.0->sentence-transformers) (2.1.5)\n",
      "Requirement already satisfied: charset-normalizer<4,>=2 in c:\\users\\alams\\appdata\\local\\programs\\python\\python312\\lib\\site-packages (from requests->huggingface-hub>=0.15.1->sentence-transformers) (3.3.2)\n",
      "Requirement already satisfied: idna<4,>=2.5 in c:\\users\\alams\\appdata\\local\\programs\\python\\python312\\lib\\site-packages (from requests->huggingface-hub>=0.15.1->sentence-transformers) (3.6)\n",
      "Requirement already satisfied: urllib3<3,>=1.21.1 in c:\\users\\alams\\appdata\\local\\programs\\python\\python312\\lib\\site-packages (from requests->huggingface-hub>=0.15.1->sentence-transformers) (2.2.1)\n",
      "Requirement already satisfied: certifi>=2017.4.17 in c:\\users\\alams\\appdata\\local\\programs\\python\\python312\\lib\\site-packages (from requests->huggingface-hub>=0.15.1->sentence-transformers) (2024.2.2)\n",
      "Requirement already satisfied: mpmath>=0.19 in c:\\users\\alams\\appdata\\local\\programs\\python\\python312\\lib\\site-packages (from sympy->torch>=1.11.0->sentence-transformers) (1.3.0)\n",
      "Downloading sentence_transformers-2.6.1-py3-none-any.whl (163 kB)\n",
      "   ---------------------------------------- 0.0/163.3 kB ? eta -:--:--\n",
      "   ---------------------- ----------------- 92.2/163.3 kB 5.1 MB/s eta 0:00:01\n",
      "   ---------------------------------------- 163.3/163.3 kB 2.0 MB/s eta 0:00:00\n",
      "Downloading scikit_learn-1.4.1.post1-cp312-cp312-win_amd64.whl (10.6 MB)\n",
      "   ---------------------------------------- 0.0/10.6 MB ? eta -:--:--\n",
      "    --------------------------------------- 0.3/10.6 MB 7.9 MB/s eta 0:00:02\n",
      "   - -------------------------------------- 0.3/10.6 MB 3.5 MB/s eta 0:00:03\n",
      "   --- ------------------------------------ 0.8/10.6 MB 7.7 MB/s eta 0:00:02\n",
      "   ------ --------------------------------- 1.6/10.6 MB 8.5 MB/s eta 0:00:02\n",
      "   -------- ------------------------------- 2.3/10.6 MB 9.8 MB/s eta 0:00:01\n",
      "   ----------- ---------------------------- 3.2/10.6 MB 11.9 MB/s eta 0:00:01\n",
      "   --------------- ------------------------ 4.2/10.6 MB 14.2 MB/s eta 0:00:01\n",
      "   -------------------- ------------------- 5.5/10.6 MB 16.0 MB/s eta 0:00:01\n",
      "   ------------------------- -------------- 6.8/10.6 MB 17.4 MB/s eta 0:00:01\n",
      "   ------------------------------- -------- 8.2/10.6 MB 19.5 MB/s eta 0:00:01\n",
      "   -------------------------------------- - 10.3/10.6 MB 21.8 MB/s eta 0:00:01\n",
      "   ---------------------------------------- 10.6/10.6 MB 23.3 MB/s eta 0:00:00\n",
      "Downloading scipy-1.13.0-cp312-cp312-win_amd64.whl (45.9 MB)\n",
      "   ---------------------------------------- 0.0/45.9 MB ? eta -:--:--\n",
      "   - -------------------------------------- 1.6/45.9 MB 49.9 MB/s eta 0:00:01\n",
      "   --- ------------------------------------ 3.5/45.9 MB 44.5 MB/s eta 0:00:01\n",
      "   ---- ----------------------------------- 5.3/45.9 MB 42.4 MB/s eta 0:00:01\n",
      "   ----- ---------------------------------- 6.9/45.9 MB 39.8 MB/s eta 0:00:01\n",
      "   ------- -------------------------------- 8.9/45.9 MB 40.8 MB/s eta 0:00:01\n",
      "   -------- ------------------------------- 10.3/45.9 MB 40.9 MB/s eta 0:00:01\n",
      "   --------- ------------------------------ 10.6/45.9 MB 38.5 MB/s eta 0:00:01\n",
      "   --------- ------------------------------ 10.6/45.9 MB 31.2 MB/s eta 0:00:02\n",
      "   --------- ------------------------------ 10.6/45.9 MB 31.2 MB/s eta 0:00:02\n",
      "   --------- ------------------------------ 10.8/45.9 MB 24.2 MB/s eta 0:00:02\n",
      "   ---------- ----------------------------- 12.5/45.9 MB 25.2 MB/s eta 0:00:02\n",
      "   ----------- ---------------------------- 13.1/45.9 MB 22.5 MB/s eta 0:00:02\n",
      "   ----------- ---------------------------- 13.4/45.9 MB 20.5 MB/s eta 0:00:02\n",
      "   ------------ --------------------------- 13.9/45.9 MB 19.8 MB/s eta 0:00:02\n",
      "   ------------ --------------------------- 14.3/45.9 MB 18.7 MB/s eta 0:00:02\n",
      "   ------------- -------------------------- 15.3/45.9 MB 17.7 MB/s eta 0:00:02\n",
      "   ------------- -------------------------- 15.3/45.9 MB 17.7 MB/s eta 0:00:02\n",
      "   ------------- -------------------------- 15.3/45.9 MB 15.6 MB/s eta 0:00:02\n",
      "   ------------- -------------------------- 15.4/45.9 MB 14.2 MB/s eta 0:00:03\n",
      "   -------------- ------------------------- 16.3/45.9 MB 14.6 MB/s eta 0:00:03\n",
      "   --------------- ------------------------ 17.7/45.9 MB 13.6 MB/s eta 0:00:03\n",
      "   --------------- ------------------------ 18.2/45.9 MB 13.1 MB/s eta 0:00:03\n",
      "   ---------------- ----------------------- 18.5/45.9 MB 13.1 MB/s eta 0:00:03\n",
      "   ---------------- ----------------------- 18.5/45.9 MB 11.9 MB/s eta 0:00:03\n",
      "   ---------------- ----------------------- 18.5/45.9 MB 11.9 MB/s eta 0:00:03\n",
      "   ----------------- ---------------------- 20.0/45.9 MB 11.1 MB/s eta 0:00:03\n",
      "   ------------------ --------------------- 20.7/45.9 MB 11.1 MB/s eta 0:00:03\n",
      "   ------------------ --------------------- 21.3/45.9 MB 13.1 MB/s eta 0:00:02\n",
      "   ------------------ --------------------- 21.4/45.9 MB 13.1 MB/s eta 0:00:02\n",
      "   ------------------ --------------------- 21.6/45.9 MB 11.9 MB/s eta 0:00:03\n",
      "   ------------------- -------------------- 22.3/45.9 MB 11.3 MB/s eta 0:00:03\n",
      "   -------------------- ------------------- 23.2/45.9 MB 11.3 MB/s eta 0:00:03\n",
      "   -------------------- ------------------- 23.6/45.9 MB 11.3 MB/s eta 0:00:02\n",
      "   --------------------- ------------------ 24.2/45.9 MB 11.7 MB/s eta 0:00:02\n",
      "   --------------------- ------------------ 24.6/45.9 MB 11.9 MB/s eta 0:00:02\n",
      "   ---------------------- ----------------- 25.3/45.9 MB 11.3 MB/s eta 0:00:02\n",
      "   ---------------------- ----------------- 25.8/45.9 MB 13.1 MB/s eta 0:00:02\n",
      "   ---------------------- ----------------- 26.4/45.9 MB 12.6 MB/s eta 0:00:02\n",
      "   ----------------------- ---------------- 26.9/45.9 MB 12.6 MB/s eta 0:00:02\n",
      "   ----------------------- ---------------- 27.5/45.9 MB 11.9 MB/s eta 0:00:02\n",
      "   ------------------------ --------------- 28.2/45.9 MB 11.9 MB/s eta 0:00:02\n",
      "   ------------------------ --------------- 28.2/45.9 MB 11.9 MB/s eta 0:00:02\n",
      "   ------------------------ --------------- 28.2/45.9 MB 11.1 MB/s eta 0:00:02\n",
      "   ------------------------- -------------- 28.9/45.9 MB 12.8 MB/s eta 0:00:02\n",
      "   ------------------------- -------------- 29.8/45.9 MB 12.6 MB/s eta 0:00:02\n",
      "   -------------------------- ------------- 30.2/45.9 MB 11.9 MB/s eta 0:00:02\n",
      "   -------------------------- ------------- 30.6/45.9 MB 11.5 MB/s eta 0:00:02\n",
      "   --------------------------- ------------ 31.0/45.9 MB 11.3 MB/s eta 0:00:02\n",
      "   --------------------------- ------------ 31.4/45.9 MB 11.3 MB/s eta 0:00:02\n",
      "   --------------------------- ------------ 31.8/45.9 MB 11.9 MB/s eta 0:00:02\n",
      "   ---------------------------- ----------- 32.2/45.9 MB 11.7 MB/s eta 0:00:02\n",
      "   ---------------------------- ----------- 32.5/45.9 MB 11.3 MB/s eta 0:00:02\n",
      "   ---------------------------- ----------- 32.5/45.9 MB 11.3 MB/s eta 0:00:02\n",
      "   ---------------------------- ----------- 32.7/45.9 MB 10.6 MB/s eta 0:00:02\n",
      "   ---------------------------- ----------- 33.1/45.9 MB 10.1 MB/s eta 0:00:02\n",
      "   ----------------------------- ---------- 33.6/45.9 MB 9.9 MB/s eta 0:00:02\n",
      "   ----------------------------- ---------- 33.8/45.9 MB 9.8 MB/s eta 0:00:02\n",
      "   ----------------------------- ---------- 34.0/45.9 MB 9.5 MB/s eta 0:00:02\n",
      "   ----------------------------- ---------- 34.2/45.9 MB 9.2 MB/s eta 0:00:02\n",
      "   ------------------------------ --------- 34.4/45.9 MB 9.1 MB/s eta 0:00:02\n",
      "   ------------------------------ --------- 34.7/45.9 MB 8.8 MB/s eta 0:00:02\n",
      "   ------------------------------ --------- 34.8/45.9 MB 8.7 MB/s eta 0:00:02\n",
      "   ------------------------------ --------- 35.1/45.9 MB 8.6 MB/s eta 0:00:02\n",
      "   ------------------------------ --------- 35.3/45.9 MB 8.3 MB/s eta 0:00:02\n",
      "   ------------------------------ --------- 35.5/45.9 MB 8.1 MB/s eta 0:00:02\n",
      "   ------------------------------- -------- 35.8/45.9 MB 8.0 MB/s eta 0:00:02\n",
      "   ------------------------------- -------- 35.9/45.9 MB 8.0 MB/s eta 0:00:02\n",
      "   ------------------------------- -------- 36.2/45.9 MB 7.6 MB/s eta 0:00:02\n",
      "   ------------------------------- -------- 36.4/45.9 MB 7.5 MB/s eta 0:00:02\n",
      "   ------------------------------- -------- 36.7/45.9 MB 7.4 MB/s eta 0:00:02\n",
      "   -------------------------------- ------- 36.9/45.9 MB 7.2 MB/s eta 0:00:02\n",
      "   -------------------------------- ------- 37.2/45.9 MB 7.2 MB/s eta 0:00:02\n",
      "   -------------------------------- ------- 37.4/45.9 MB 7.0 MB/s eta 0:00:02\n",
      "   -------------------------------- ------- 37.6/45.9 MB 6.9 MB/s eta 0:00:02\n",
      "   --------------------------------- ------ 37.9/45.9 MB 6.8 MB/s eta 0:00:02\n",
      "   --------------------------------- ------ 38.1/45.9 MB 6.6 MB/s eta 0:00:02\n",
      "   --------------------------------- ------ 38.3/45.9 MB 6.5 MB/s eta 0:00:02\n",
      "   --------------------------------- ------ 38.5/45.9 MB 6.8 MB/s eta 0:00:02\n",
      "   --------------------------------- ------ 38.8/45.9 MB 6.6 MB/s eta 0:00:02\n",
      "   ---------------------------------- ----- 39.1/45.9 MB 6.4 MB/s eta 0:00:02\n",
      "   ---------------------------------- ----- 39.4/45.9 MB 6.4 MB/s eta 0:00:02\n",
      "   ---------------------------------- ----- 39.6/45.9 MB 6.2 MB/s eta 0:00:02\n",
      "   ---------------------------------- ----- 39.9/45.9 MB 6.1 MB/s eta 0:00:01\n",
      "   ---------------------------------- ----- 40.1/45.9 MB 6.0 MB/s eta 0:00:01\n",
      "   ----------------------------------- ---- 40.4/45.9 MB 5.9 MB/s eta 0:00:01\n",
      "   ----------------------------------- ---- 40.6/45.9 MB 5.9 MB/s eta 0:00:01\n",
      "   ----------------------------------- ---- 40.9/45.9 MB 5.8 MB/s eta 0:00:01\n",
      "   ----------------------------------- ---- 41.1/45.9 MB 5.7 MB/s eta 0:00:01\n",
      "   ----------------------------------- ---- 41.3/45.9 MB 5.7 MB/s eta 0:00:01\n",
      "   ------------------------------------ --- 41.5/45.9 MB 5.6 MB/s eta 0:00:01\n",
      "   ------------------------------------ --- 41.8/45.9 MB 5.6 MB/s eta 0:00:01\n",
      "   ------------------------------------ --- 42.0/45.9 MB 5.5 MB/s eta 0:00:01\n",
      "   ------------------------------------ --- 42.3/45.9 MB 5.6 MB/s eta 0:00:01\n",
      "   ------------------------------------- -- 42.5/45.9 MB 5.5 MB/s eta 0:00:01\n",
      "   ------------------------------------- -- 42.7/45.9 MB 5.4 MB/s eta 0:00:01\n",
      "   ------------------------------------- -- 42.9/45.9 MB 5.5 MB/s eta 0:00:01\n",
      "   ------------------------------------- -- 43.2/45.9 MB 5.5 MB/s eta 0:00:01\n",
      "   ------------------------------------- -- 43.4/45.9 MB 5.5 MB/s eta 0:00:01\n",
      "   -------------------------------------- - 43.7/45.9 MB 5.4 MB/s eta 0:00:01\n",
      "   -------------------------------------- - 43.8/45.9 MB 5.4 MB/s eta 0:00:01\n",
      "   -------------------------------------- - 44.2/45.9 MB 5.4 MB/s eta 0:00:01\n",
      "   -------------------------------------- - 44.4/45.9 MB 5.4 MB/s eta 0:00:01\n",
      "   ---------------------------------------  44.8/45.9 MB 5.5 MB/s eta 0:00:01\n",
      "   ---------------------------------------  45.0/45.9 MB 5.5 MB/s eta 0:00:01\n",
      "   ---------------------------------------  45.3/45.9 MB 5.5 MB/s eta 0:00:01\n",
      "   ---------------------------------------  45.6/45.9 MB 5.5 MB/s eta 0:00:01\n",
      "   ---------------------------------------  45.9/45.9 MB 5.5 MB/s eta 0:00:01\n",
      "   ---------------------------------------  45.9/45.9 MB 5.5 MB/s eta 0:00:01\n",
      "   ---------------------------------------  45.9/45.9 MB 5.5 MB/s eta 0:00:01\n",
      "   ---------------------------------------  45.9/45.9 MB 5.5 MB/s eta 0:00:01\n",
      "   ---------------------------------------  45.9/45.9 MB 5.5 MB/s eta 0:00:01\n",
      "   ---------------------------------------- 45.9/45.9 MB 4.8 MB/s eta 0:00:00\n",
      "Downloading joblib-1.3.2-py3-none-any.whl (302 kB)\n",
      "   ---------------------------------------- 0.0/302.2 kB ? eta -:--:--\n",
      "   ------------------------------------- -- 286.7/302.2 kB 8.9 MB/s eta 0:00:01\n",
      "   ------------------------------------- -- 286.7/302.2 kB 8.9 MB/s eta 0:00:01\n",
      "   ------------------------------------- -- 286.7/302.2 kB 8.9 MB/s eta 0:00:01\n",
      "   ---------------------------------------  297.0/302.2 kB 1.8 MB/s eta 0:00:01\n",
      "   ---------------------------------------- 302.2/302.2 kB 1.6 MB/s eta 0:00:00\n",
      "Downloading threadpoolctl-3.4.0-py3-none-any.whl (17 kB)\n",
      "Installing collected packages: threadpoolctl, scipy, joblib, scikit-learn, sentence-transformers\n",
      "Successfully installed joblib-1.3.2 scikit-learn-1.4.1.post1 scipy-1.13.0 sentence-transformers-2.6.1 threadpoolctl-3.4.0\n"
     ]
    }
   ],
   "source": [
    "! pip install sentence-transformers"
   ]
  },
  {
   "cell_type": "code",
   "execution_count": 16,
   "metadata": {},
   "outputs": [],
   "source": [
    "#download embedding model\n",
    "def download_hugging_face_embeddings():\n",
    "    embeddings = HuggingFaceEmbeddings(model_name=\"sentence-transformers/all-MiniLM-L6-v2\")\n",
    "    return embeddings"
   ]
  },
  {
   "cell_type": "code",
   "execution_count": 17,
   "metadata": {},
   "outputs": [
    {
     "name": "stderr",
     "output_type": "stream",
     "text": [
      "c:\\Users\\alams\\AppData\\Local\\Programs\\Python\\Python312\\Lib\\site-packages\\tqdm\\auto.py:21: TqdmWarning: IProgress not found. Please update jupyter and ipywidgets. See https://ipywidgets.readthedocs.io/en/stable/user_install.html\n",
      "  from .autonotebook import tqdm as notebook_tqdm\n"
     ]
    }
   ],
   "source": [
    "embeddings = download_hugging_face_embeddings()"
   ]
  },
  {
   "cell_type": "code",
   "execution_count": 18,
   "metadata": {},
   "outputs": [
    {
     "data": {
      "text/plain": [
       "384"
      ]
     },
     "execution_count": 18,
     "metadata": {},
     "output_type": "execute_result"
    }
   ],
   "source": [
    "query_result = embeddings.embed_query(\"Hello World\")\n",
    "len(query_result)"
   ]
  },
  {
   "cell_type": "code",
   "execution_count": 19,
   "metadata": {},
   "outputs": [],
   "source": [
    "#Initializing the Pinecone\n",
    "from langchain_pinecone import PineconeVectorStore\n",
    "from pinecone import Pinecone\n",
    "pc = Pinecone(api_key=PINECONE_API_KEY)\n",
    "\n",
    "index_name=\"medical-chatbot\"\n",
    "\n",
    "\n",
    "docsearch = PineconeVectorStore.from_documents(text_chunk, embeddings, index_name=index_name)\n"
   ]
  },
  {
   "cell_type": "code",
   "execution_count": 20,
   "metadata": {},
   "outputs": [
    {
     "name": "stdout",
     "output_type": "stream",
     "text": [
      "Result [Document(page_content='ORGANIZATIONS\\nAmerican Academy of Ophthalmology. 655 Beach Street, PO\\nBox 7424, San Francisco, CA 94120-7424. <http://www.\\neyenet.org>.KEY TERMS\\nAllergen —A substance capable of inducing an\\nallergic response.\\nAllergic reaction —An immune system reaction to\\na substance in the environment; symptoms\\ninclude rash, inflammation, sneezing, itchy watery\\neyes, and runny nose.\\nConjunctiva —The mucous membrane that covers\\nthe white part of the eyes and lines the eyelids.', metadata={'page': 659.0, 'source': '..\\\\data\\\\The_GALE_ENCYCLOPEDIA_of_MEDICINE_SECOND.pdf'}), Document(page_content='ORGANIZATIONS\\nAmerican Academy of Ophthalmology. 655 Beach Street, PO\\nBox 7424, San Francisco, CA 94120-7424. <http://www.\\neyenet.org>.KEY TERMS\\nAllergen —A substance capable of inducing an\\nallergic response.\\nAllergic reaction —An immune system reaction to\\na substance in the environment; symptoms\\ninclude rash, inflammation, sneezing, itchy watery\\neyes, and runny nose.\\nConjunctiva —The mucous membrane that covers\\nthe white part of the eyes and lines the eyelids.', metadata={'page': 659.0, 'source': '..\\\\data\\\\The_GALE_ENCYCLOPEDIA_of_MEDICINE_SECOND.pdf'}), Document(page_content='Although environmental medicine is gaining more\\nrespect within conventional medicine, detoxificationKEY TERMS\\nAllergen —A foreign substance, such as mites in\\nhouse dust or animal dander, that when\\ninhaled,causes the airways to narrow and pro-\\nduces symptoms of asthma.\\nAntibody —A protein, also called immunoglobu-\\nlin, produced by immune system cells to remove\\nantigens (the foreign substances that trigger the\\nimmune response).\\nFibromyalgia —A condition of debilitating pain,', metadata={'page': 431.0, 'source': '..\\\\data\\\\The_GALE_ENCYCLOPEDIA_of_MEDICINE_SECOND.pdf'})]\n"
     ]
    }
   ],
   "source": [
    "\n",
    "query = \"What are Allergies\"\n",
    "\n",
    "docs=docsearch.similarity_search(query, k=3)\n",
    "\n",
    "print(\"Result\", docs)"
   ]
  },
  {
   "cell_type": "code",
   "execution_count": 38,
   "metadata": {},
   "outputs": [
    {
     "name": "stdout",
     "output_type": "stream",
     "text": [
      "{'page': 659.0, 'source': '..\\\\data\\\\The_GALE_ENCYCLOPEDIA_of_MEDICINE_SECOND.pdf'}\n"
     ]
    }
   ],
   "source": [
    "print(docs[0].metadata)"
   ]
  },
  {
   "cell_type": "code",
   "execution_count": 21,
   "metadata": {},
   "outputs": [],
   "source": [
    "prompt_template=\"\"\"\n",
    "Use the following pieces of information to answer the user's question.\n",
    "If you don't know the answer, just say that you don't know, don't try to make up an answer.\n",
    "\n",
    "Context: {context}\n",
    "Question: {question}\n",
    "\n",
    "Only return the helpful answer below and nothing else.\n",
    "Helpful answer:\n",
    "\"\"\""
   ]
  },
  {
   "cell_type": "code",
   "execution_count": 22,
   "metadata": {},
   "outputs": [],
   "source": [
    "PROMPT=PromptTemplate(template=prompt_template, input_variables=[\"context\", \"question\"])\n",
    "chain_type_kwargs={\"prompt\": PROMPT}"
   ]
  },
  {
   "cell_type": "code",
   "execution_count": 28,
   "metadata": {},
   "outputs": [],
   "source": [
    "from langchain.chat_models import ChatOpenAI\n",
    "\n",
    "llm = ChatOpenAI(model_name=\"gpt-3.5-turbo\", temperature=0)"
   ]
  },
  {
   "cell_type": "code",
   "execution_count": 29,
   "metadata": {},
   "outputs": [],
   "source": [
    "qa=RetrievalQA.from_chain_type(\n",
    "    llm=llm, \n",
    "    chain_type=\"stuff\", \n",
    "    retriever=docsearch.as_retriever(search_kwargs={'k': 2}),\n",
    "    return_source_documents=True, \n",
    "    chain_type_kwargs=chain_type_kwargs)"
   ]
  },
  {
   "cell_type": "code",
   "execution_count": null,
   "metadata": {},
   "outputs": [],
   "source": [
    "# while True:\n",
    "#     user_input=input(f\"Input Prompt:\")\n",
    "#     result=qa({\"query\": user_input})\n",
    "#     print(\"Response : \", result[\"result\"])"
   ]
  },
  {
   "cell_type": "code",
   "execution_count": 31,
   "metadata": {},
   "outputs": [
    {
     "name": "stdout",
     "output_type": "stream",
     "text": [
      "{'query': 'What are Allergies', 'result': 'An allergy is an immune system reaction to a substance in the environment, with symptoms including rash, inflammation, sneezing, itchy watery eyes, and a runny nose.', 'source_documents': [Document(page_content='ORGANIZATIONS\\nAmerican Academy of Ophthalmology. 655 Beach Street, PO\\nBox 7424, San Francisco, CA 94120-7424. <http://www.\\neyenet.org>.KEY TERMS\\nAllergen —A substance capable of inducing an\\nallergic response.\\nAllergic reaction —An immune system reaction to\\na substance in the environment; symptoms\\ninclude rash, inflammation, sneezing, itchy watery\\neyes, and runny nose.\\nConjunctiva —The mucous membrane that covers\\nthe white part of the eyes and lines the eyelids.', metadata={'page': 659.0, 'source': '..\\\\data\\\\The_GALE_ENCYCLOPEDIA_of_MEDICINE_SECOND.pdf'}), Document(page_content='ORGANIZATIONS\\nAmerican Academy of Ophthalmology. 655 Beach Street, PO\\nBox 7424, San Francisco, CA 94120-7424. <http://www.\\neyenet.org>.KEY TERMS\\nAllergen —A substance capable of inducing an\\nallergic response.\\nAllergic reaction —An immune system reaction to\\na substance in the environment; symptoms\\ninclude rash, inflammation, sneezing, itchy watery\\neyes, and runny nose.\\nConjunctiva —The mucous membrane that covers\\nthe white part of the eyes and lines the eyelids.', metadata={'page': 659.0, 'source': '..\\\\data\\\\The_GALE_ENCYCLOPEDIA_of_MEDICINE_SECOND.pdf'})]}\n"
     ]
    }
   ],
   "source": [
    "user_input = \"What are Allergies\"\n",
    "result=qa({\"query\": user_input})\n",
    "print(result)"
   ]
  },
  {
   "cell_type": "code",
   "execution_count": 33,
   "metadata": {},
   "outputs": [
    {
     "name": "stdout",
     "output_type": "stream",
     "text": [
      "An allergy is an immune system reaction to a substance in the environment, with symptoms including rash, inflammation, sneezing, itchy watery eyes, and a runny nose.\n"
     ]
    }
   ],
   "source": [
    "print(result[\"result\"])"
   ]
  },
  {
   "cell_type": "code",
   "execution_count": 34,
   "metadata": {},
   "outputs": [
    {
     "name": "stdout",
     "output_type": "stream",
     "text": [
      "Requirement already satisfied: langchain-community in c:\\users\\alams\\appdata\\local\\programs\\python\\python312\\lib\\site-packages (0.0.31)\n",
      "Requirement already satisfied: PyYAML>=5.3 in c:\\users\\alams\\appdata\\local\\programs\\python\\python312\\lib\\site-packages (from langchain-community) (6.0.1)\n",
      "Requirement already satisfied: SQLAlchemy<3,>=1.4 in c:\\users\\alams\\appdata\\local\\programs\\python\\python312\\lib\\site-packages (from langchain-community) (2.0.29)\n",
      "Requirement already satisfied: aiohttp<4.0.0,>=3.8.3 in c:\\users\\alams\\appdata\\local\\programs\\python\\python312\\lib\\site-packages (from langchain-community) (3.9.3)\n",
      "Requirement already satisfied: dataclasses-json<0.7,>=0.5.7 in c:\\users\\alams\\appdata\\local\\programs\\python\\python312\\lib\\site-packages (from langchain-community) (0.6.4)\n",
      "Requirement already satisfied: langchain-core<0.2.0,>=0.1.37 in c:\\users\\alams\\appdata\\local\\programs\\python\\python312\\lib\\site-packages (from langchain-community) (0.1.38)\n",
      "Requirement already satisfied: langsmith<0.2.0,>=0.1.0 in c:\\users\\alams\\appdata\\local\\programs\\python\\python312\\lib\\site-packages (from langchain-community) (0.1.38)\n",
      "Requirement already satisfied: numpy<2,>=1 in c:\\users\\alams\\appdata\\local\\programs\\python\\python312\\lib\\site-packages (from langchain-community) (1.26.4)\n",
      "Requirement already satisfied: requests<3,>=2 in c:\\users\\alams\\appdata\\local\\programs\\python\\python312\\lib\\site-packages (from langchain-community) (2.31.0)\n",
      "Requirement already satisfied: tenacity<9.0.0,>=8.1.0 in c:\\users\\alams\\appdata\\local\\programs\\python\\python312\\lib\\site-packages (from langchain-community) (8.2.3)\n",
      "Requirement already satisfied: aiosignal>=1.1.2 in c:\\users\\alams\\appdata\\local\\programs\\python\\python312\\lib\\site-packages (from aiohttp<4.0.0,>=3.8.3->langchain-community) (1.3.1)\n",
      "Requirement already satisfied: attrs>=17.3.0 in c:\\users\\alams\\appdata\\local\\programs\\python\\python312\\lib\\site-packages (from aiohttp<4.0.0,>=3.8.3->langchain-community) (23.2.0)\n",
      "Requirement already satisfied: frozenlist>=1.1.1 in c:\\users\\alams\\appdata\\local\\programs\\python\\python312\\lib\\site-packages (from aiohttp<4.0.0,>=3.8.3->langchain-community) (1.4.1)\n",
      "Requirement already satisfied: multidict<7.0,>=4.5 in c:\\users\\alams\\appdata\\local\\programs\\python\\python312\\lib\\site-packages (from aiohttp<4.0.0,>=3.8.3->langchain-community) (6.0.5)\n",
      "Requirement already satisfied: yarl<2.0,>=1.0 in c:\\users\\alams\\appdata\\local\\programs\\python\\python312\\lib\\site-packages (from aiohttp<4.0.0,>=3.8.3->langchain-community) (1.9.4)\n",
      "Requirement already satisfied: marshmallow<4.0.0,>=3.18.0 in c:\\users\\alams\\appdata\\local\\programs\\python\\python312\\lib\\site-packages (from dataclasses-json<0.7,>=0.5.7->langchain-community) (3.21.1)\n",
      "Requirement already satisfied: typing-inspect<1,>=0.4.0 in c:\\users\\alams\\appdata\\local\\programs\\python\\python312\\lib\\site-packages (from dataclasses-json<0.7,>=0.5.7->langchain-community) (0.9.0)\n",
      "Requirement already satisfied: jsonpatch<2.0,>=1.33 in c:\\users\\alams\\appdata\\local\\programs\\python\\python312\\lib\\site-packages (from langchain-core<0.2.0,>=0.1.37->langchain-community) (1.33)\n",
      "Requirement already satisfied: packaging<24.0,>=23.2 in c:\\users\\alams\\appdata\\local\\programs\\python\\python312\\lib\\site-packages (from langchain-core<0.2.0,>=0.1.37->langchain-community) (23.2)\n",
      "Requirement already satisfied: pydantic<3,>=1 in c:\\users\\alams\\appdata\\local\\programs\\python\\python312\\lib\\site-packages (from langchain-core<0.2.0,>=0.1.37->langchain-community) (2.6.4)\n",
      "Requirement already satisfied: orjson<4.0.0,>=3.9.14 in c:\\users\\alams\\appdata\\local\\programs\\python\\python312\\lib\\site-packages (from langsmith<0.2.0,>=0.1.0->langchain-community) (3.10.0)\n",
      "Requirement already satisfied: charset-normalizer<4,>=2 in c:\\users\\alams\\appdata\\local\\programs\\python\\python312\\lib\\site-packages (from requests<3,>=2->langchain-community) (3.3.2)\n",
      "Requirement already satisfied: idna<4,>=2.5 in c:\\users\\alams\\appdata\\local\\programs\\python\\python312\\lib\\site-packages (from requests<3,>=2->langchain-community) (3.6)\n",
      "Requirement already satisfied: urllib3<3,>=1.21.1 in c:\\users\\alams\\appdata\\local\\programs\\python\\python312\\lib\\site-packages (from requests<3,>=2->langchain-community) (2.2.1)\n",
      "Requirement already satisfied: certifi>=2017.4.17 in c:\\users\\alams\\appdata\\local\\programs\\python\\python312\\lib\\site-packages (from requests<3,>=2->langchain-community) (2024.2.2)\n",
      "Requirement already satisfied: typing-extensions>=4.6.0 in c:\\users\\alams\\appdata\\local\\programs\\python\\python312\\lib\\site-packages (from SQLAlchemy<3,>=1.4->langchain-community) (4.10.0)\n",
      "Requirement already satisfied: greenlet!=0.4.17 in c:\\users\\alams\\appdata\\local\\programs\\python\\python312\\lib\\site-packages (from SQLAlchemy<3,>=1.4->langchain-community) (3.0.3)\n",
      "Requirement already satisfied: jsonpointer>=1.9 in c:\\users\\alams\\appdata\\local\\programs\\python\\python312\\lib\\site-packages (from jsonpatch<2.0,>=1.33->langchain-core<0.2.0,>=0.1.37->langchain-community) (2.4)\n",
      "Requirement already satisfied: annotated-types>=0.4.0 in c:\\users\\alams\\appdata\\local\\programs\\python\\python312\\lib\\site-packages (from pydantic<3,>=1->langchain-core<0.2.0,>=0.1.37->langchain-community) (0.6.0)\n",
      "Requirement already satisfied: pydantic-core==2.16.3 in c:\\users\\alams\\appdata\\local\\programs\\python\\python312\\lib\\site-packages (from pydantic<3,>=1->langchain-core<0.2.0,>=0.1.37->langchain-community) (2.16.3)\n",
      "Requirement already satisfied: mypy-extensions>=0.3.0 in c:\\users\\alams\\appdata\\local\\programs\\python\\python312\\lib\\site-packages (from typing-inspect<1,>=0.4.0->dataclasses-json<0.7,>=0.5.7->langchain-community) (1.0.0)\n"
     ]
    }
   ],
   "source": [
    "! pip install -U langchain-community"
   ]
  },
  {
   "cell_type": "code",
   "execution_count": null,
   "metadata": {},
   "outputs": [],
   "source": []
  }
 ],
 "metadata": {
  "kernelspec": {
   "display_name": "Python 3",
   "language": "python",
   "name": "python3"
  },
  "language_info": {
   "codemirror_mode": {
    "name": "ipython",
    "version": 3
   },
   "file_extension": ".py",
   "mimetype": "text/x-python",
   "name": "python",
   "nbconvert_exporter": "python",
   "pygments_lexer": "ipython3",
   "version": "3.12.2"
  }
 },
 "nbformat": 4,
 "nbformat_minor": 2
}
